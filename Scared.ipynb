{
 "cells": [
  {
   "cell_type": "code",
   "execution_count": 1,
   "metadata": {},
   "outputs": [],
   "source": [
    "import scared"
   ]
  },
  {
   "cell_type": "code",
   "execution_count": 2,
   "metadata": {},
   "outputs": [
    {
     "name": "stderr",
     "output_type": "stream",
     "text": [
      "/home/sushranth/miniconda3/lib/python3.7/site-packages/ipykernel/ipkernel.py:287: DeprecationWarning: `should_run_async` will not call `transform_cell` automatically in the future. Please pass the result to `transformed_cell` argument and any exception that happen during thetransform in `preprocessing_exc_tuple` in IPython 7.17 and above.\n",
      "  and should_run_async(code)\n"
     ]
    }
   ],
   "source": [
    "ths = scared.traces.read_ths_from_ets_file('dpa_v2.ets')"
   ]
  },
  {
   "cell_type": "code",
   "execution_count": 3,
   "metadata": {},
   "outputs": [
    {
     "name": "stdout",
     "output_type": "stream",
     "text": [
      "20000\n"
     ]
    }
   ],
   "source": [
    "print(len(ths))"
   ]
  },
  {
   "cell_type": "code",
   "execution_count": 17,
   "metadata": {},
   "outputs": [],
   "source": [
    "trace_array = ths[:].samples[:, :]"
   ]
  },
  {
   "cell_type": "code",
   "execution_count": 18,
   "metadata": {},
   "outputs": [
    {
     "name": "stdout",
     "output_type": "stream",
     "text": [
      "20000\n"
     ]
    }
   ],
   "source": [
    "print(len(trace_array))"
   ]
  },
  {
   "cell_type": "code",
   "execution_count": 19,
   "metadata": {},
   "outputs": [
    {
     "name": "stdout",
     "output_type": "stream",
     "text": [
      "3253\n"
     ]
    }
   ],
   "source": [
    "print(len(trace_array[0]))"
   ]
  },
  {
   "cell_type": "code",
   "execution_count": 20,
   "metadata": {},
   "outputs": [
    {
     "name": "stdout",
     "output_type": "stream",
     "text": [
      "[-5011 -4625 -4180 ...  -354   -67   714]\n"
     ]
    }
   ],
   "source": [
    "print(trace_array[0])"
   ]
  },
  {
   "cell_type": "code",
   "execution_count": 7,
   "metadata": {},
   "outputs": [
    {
     "name": "stdout",
     "output_type": "stream",
     "text": [
      "[[  0   0   0 ... 163   8 211]\n",
      " [  0   0   0 ... 163   8 211]\n",
      " [  0   0   0 ... 163   8 211]\n",
      " ...\n",
      " [  0   0   0 ... 163   8 211]\n",
      " [  0   0   0 ... 163   8 211]\n",
      " [  0   0   0 ... 163   8 211]]\n"
     ]
    }
   ],
   "source": [
    "print(ths.key)"
   ]
  },
  {
   "cell_type": "code",
   "execution_count": 9,
   "metadata": {},
   "outputs": [
    {
     "name": "stdout",
     "output_type": "stream",
     "text": [
      "[[  0   0   0 ... 237  42 106]\n",
      " [167 132 217 ... 108 251 229]\n",
      " [191 113  88 ... 180 218  86]\n",
      " ...\n",
      " [148 225  89 ...  36  39 108]\n",
      " [ 42  43 179 ...  18 204 238]\n",
      " [170 230  62 ... 209 181  19]]\n"
     ]
    }
   ],
   "source": [
    "print(ths.plaintext)"
   ]
  },
  {
   "cell_type": "code",
   "execution_count": 38,
   "metadata": {},
   "outputs": [],
   "source": [
    "sbox = [\n",
    "    # 0    1    2    3    4    5    6    7    8    9    a    b    c    d    e    f \n",
    "    0x63,0x7c,0x77,0x7b,0xf2,0x6b,0x6f,0xc5,0x30,0x01,0x67,0x2b,0xfe,0xd7,0xab,0x76, # 0\n",
    "    0xca,0x82,0xc9,0x7d,0xfa,0x59,0x47,0xf0,0xad,0xd4,0xa2,0xaf,0x9c,0xa4,0x72,0xc0, # 1\n",
    "    0xb7,0xfd,0x93,0x26,0x36,0x3f,0xf7,0xcc,0x34,0xa5,0xe5,0xf1,0x71,0xd8,0x31,0x15, # 2\n",
    "    0x04,0xc7,0x23,0xc3,0x18,0x96,0x05,0x9a,0x07,0x12,0x80,0xe2,0xeb,0x27,0xb2,0x75, # 3\n",
    "    0x09,0x83,0x2c,0x1a,0x1b,0x6e,0x5a,0xa0,0x52,0x3b,0xd6,0xb3,0x29,0xe3,0x2f,0x84, # 4\n",
    "    0x53,0xd1,0x00,0xed,0x20,0xfc,0xb1,0x5b,0x6a,0xcb,0xbe,0x39,0x4a,0x4c,0x58,0xcf, # 5\n",
    "    0xd0,0xef,0xaa,0xfb,0x43,0x4d,0x33,0x85,0x45,0xf9,0x02,0x7f,0x50,0x3c,0x9f,0xa8, # 6\n",
    "    0x51,0xa3,0x40,0x8f,0x92,0x9d,0x38,0xf5,0xbc,0xb6,0xda,0x21,0x10,0xff,0xf3,0xd2, # 7\n",
    "    0xcd,0x0c,0x13,0xec,0x5f,0x97,0x44,0x17,0xc4,0xa7,0x7e,0x3d,0x64,0x5d,0x19,0x73, # 8\n",
    "    0x60,0x81,0x4f,0xdc,0x22,0x2a,0x90,0x88,0x46,0xee,0xb8,0x14,0xde,0x5e,0x0b,0xdb, # 9\n",
    "    0xe0,0x32,0x3a,0x0a,0x49,0x06,0x24,0x5c,0xc2,0xd3,0xac,0x62,0x91,0x95,0xe4,0x79, # a\n",
    "    0xe7,0xc8,0x37,0x6d,0x8d,0xd5,0x4e,0xa9,0x6c,0x56,0xf4,0xea,0x65,0x7a,0xae,0x08, # b\n",
    "    0xba,0x78,0x25,0x2e,0x1c,0xa6,0xb4,0xc6,0xe8,0xdd,0x74,0x1f,0x4b,0xbd,0x8b,0x8a, # c\n",
    "    0x70,0x3e,0xb5,0x66,0x48,0x03,0xf6,0x0e,0x61,0x35,0x57,0xb9,0x86,0xc1,0x1d,0x9e, # d\n",
    "    0xe1,0xf8,0x98,0x11,0x69,0xd9,0x8e,0x94,0x9b,0x1e,0x87,0xe9,0xce,0x55,0x28,0xdf, # e\n",
    "    0x8c,0xa1,0x89,0x0d,0xbf,0xe6,0x42,0x68,0x41,0x99,0x2d,0x0f,0xb0,0x54,0xbb,0x16  # f\n",
    "]\n",
    "\n",
    "def aes_internal(inputdata, key):\n",
    "    return sbox[inputdata ^ key]\n",
    "\n",
    "HW = [bin(n).count(\"1\") for n in range(0, 256)]"
   ]
  },
  {
   "cell_type": "code",
   "execution_count": 11,
   "metadata": {},
   "outputs": [
    {
     "name": "stdout",
     "output_type": "stream",
     "text": [
      "✔️ OK to continue!\n"
     ]
    }
   ],
   "source": [
    "assert(aes_internal(0xAB, 0xEF) == 0x1B)\n",
    "assert(aes_internal(0x22, 0x01) == 0x26)\n",
    "print(\"✔️ OK to continue!\")"
   ]
  },
  {
   "cell_type": "code",
   "execution_count": 39,
   "metadata": {},
   "outputs": [],
   "source": [
    "def mean(X):\n",
    "    return np.sum(X, axis=0)/len(X)\n",
    "\n",
    "def std_dev(X, X_bar):\n",
    "    return np.sqrt(np.sum((X-X_bar)**2, axis=0))\n",
    "\n",
    "def cov(X, X_bar, Y, Y_bar):\n",
    "    return np.sum((X-X_bar)*(Y-Y_bar), axis=0)"
   ]
  },
  {
   "cell_type": "code",
   "execution_count": 13,
   "metadata": {},
   "outputs": [
    {
     "name": "stderr",
     "output_type": "stream",
     "text": [
      "/home/sushranth/miniconda3/lib/python3.7/site-packages/ipykernel/ipkernel.py:287: DeprecationWarning: `should_run_async` will not call `transform_cell` automatically in the future. Please pass the result to `transformed_cell` argument and any exception that happen during thetransform in `preprocessing_exc_tuple` in IPython 7.17 and above.\n",
      "  and should_run_async(code)\n"
     ]
    },
    {
     "data": {
      "image/png": "[encoded data removed]",
      "text/plain": [
       "<Figure size 432x288 with 1 Axes>"
      ]
     },
     "metadata": {
      "needs_background": "light"
     },
     "output_type": "display_data"
    }
   ],
   "source": [
    "import matplotlib.pylab as plt\n",
    "\n",
    "# ###################\n",
    "# START SOLUTION\n",
    "# ###################\n",
    "plt.figure()\n",
    "plt.plot(trace_array[0], 'r')\n",
    "plt.plot(trace_array[1], 'g')\n",
    "plt.show()"
   ]
  },
  {
   "cell_type": "code",
   "execution_count": 14,
   "metadata": {},
   "outputs": [],
   "source": [
    "textin_array = ths.plaintext"
   ]
  },
  {
   "cell_type": "code",
   "execution_count": 16,
   "metadata": {},
   "outputs": [
    {
     "name": "stdout",
     "output_type": "stream",
     "text": [
      "[  0   0   0   0   0   0   0   2 183 225  81  98 138 237  42 106]\n",
      "[167 132 217   4  81 144 207 239  50  78 119  56 146 108 251 229]\n"
     ]
    }
   ],
   "source": [
    "print(textin_array[0])\n",
    "print(textin_array[1])"
   ]
  },
  {
   "cell_type": "code",
   "execution_count": 22,
   "metadata": {},
   "outputs": [],
   "source": [
    "import numpy as np"
   ]
  },
  {
   "cell_type": "code",
   "execution_count": 23,
   "metadata": {},
   "outputs": [],
   "source": [
    "numtraces = np.shape(trace_array)[0] #total number of traces\n",
    "numpoints = np.shape(trace_array)[1] #samples per trace"
   ]
  },
  {
   "cell_type": "code",
   "execution_count": 24,
   "metadata": {},
   "outputs": [
    {
     "name": "stdout",
     "output_type": "stream",
     "text": [
      "20000 3253\n"
     ]
    }
   ],
   "source": [
    "print(numtraces,numpoints)"
   ]
  },
  {
   "cell_type": "code",
   "execution_count": 25,
   "metadata": {},
   "outputs": [],
   "source": [
    "key=ths.key[0]"
   ]
  },
  {
   "cell_type": "code",
   "execution_count": 26,
   "metadata": {},
   "outputs": [
    {
     "name": "stdout",
     "output_type": "stream",
     "text": [
      "[  0   0   0   0   0   0   0   3  36  63 106 136 133 163   8 211]\n"
     ]
    }
   ],
   "source": [
    "print(key)"
   ]
  },
  {
   "cell_type": "code",
   "execution_count": 35,
   "metadata": {},
   "outputs": [],
   "source": [
    "guessed_byte = 0\n",
    "\n",
    "max_diffs = [0]*256\n",
    "full_diffs = [0]*256\n",
    "\n",
    "\n",
    "for guess in range(0, 256):\n",
    "    \n",
    "    one_list = []\n",
    "    zero_list = []\n",
    "    \n",
    "    for trace_index in range(numtraces):\n",
    "        \n",
    "        #Get a hypothetical leakage list - use aes_internal(guess, input_byte)\n",
    "        hypothetical_leakage = aes_internal(guess, textin_array[trace_index][guessed_byte])\n",
    "    \n",
    "        #Mask off the lowest bit - is it 0 or 1? Depending on that add trace to array\n",
    "        if hypothetical_leakage & 0x01:        \n",
    "            one_list.append(trace_array[trace_index])\n",
    "        else:\n",
    "            zero_list.append(trace_array[trace_index])\n",
    "            \n",
    "    one_avg = np.asarray(one_list).mean(axis=0)\n",
    "    zero_avg = np.asarray(zero_list).mean(axis=0)\n",
    "    full_diffs[guess] = abs(one_avg - zero_avg)\n",
    "    max_diffs[guess] = np.max(full_diffs[guess])\n",
    "    \n",
    "    print(\"Guessing %02x: %f\"%(guess, mean_diffs[guess]))\n",
    "\n",
    "sorted_args = np.argsort(max_diffs)[::-1]\n",
    "\n"
   ]
  },
  {
   "cell_type": "code",
   "execution_count": 37,
   "metadata": {},
   "outputs": [
    {
     "name": "stdout",
     "output_type": "stream",
     "text": [
      "Key Guess : e8 Value : 56.189871\n",
      "Key Guess : b3 Value : 55.963927\n",
      "Key Guess : 05 Value : 53.523154\n",
      "Key Guess : ac Value : 44.964504\n",
      "Key Guess : 22 Value : 41.246947\n",
      "Key Guess : 82 Value : 40.922595\n",
      "Key Guess : 48 Value : 40.805778\n",
      "Key Guess : ca Value : 39.686831\n",
      "Key Guess : 65 Value : 37.818025\n",
      "Key Guess : ba Value : 37.216649\n",
      "Key Guess : 08 Value : 37.073716\n",
      "Key Guess : 06 Value : 36.875485\n",
      "Key Guess : eb Value : 36.065801\n",
      "Key Guess : da Value : 35.852892\n",
      "Key Guess : 7a Value : 34.643352\n",
      "Key Guess : 16 Value : 34.495075\n",
      "Key Guess : f4 Value : 34.489198\n",
      "Key Guess : 25 Value : 34.203982\n",
      "Key Guess : 73 Value : 33.568315\n",
      "Key Guess : cb Value : 33.416494\n",
      "Key Guess : b4 Value : 33.305494\n",
      "Key Guess : 10 Value : 33.052163\n",
      "Key Guess : 6f Value : 32.323994\n",
      "Key Guess : a6 Value : 31.930266\n",
      "Key Guess : 6b Value : 31.877091\n",
      "Key Guess : 0f Value : 31.717583\n",
      "Key Guess : c6 Value : 31.330528\n",
      "Key Guess : f8 Value : 31.061697\n",
      "Key Guess : 07 Value : 30.528136\n",
      "Key Guess : 8b Value : 30.525326\n",
      "Key Guess : df Value : 30.511232\n",
      "Key Guess : 2b Value : 29.667312\n",
      "Key Guess : 61 Value : 29.414890\n",
      "Key Guess : 69 Value : 29.051128\n",
      "Key Guess : 93 Value : 28.808630\n",
      "Key Guess : 94 Value : 28.794667\n",
      "Key Guess : 96 Value : 28.700741\n",
      "Key Guess : 2c Value : 28.571141\n",
      "Key Guess : f1 Value : 28.265598\n",
      "Key Guess : fe Value : 28.245961\n",
      "Key Guess : 56 Value : 28.227949\n",
      "Key Guess : fd Value : 28.163171\n",
      "Key Guess : 11 Value : 28.034439\n",
      "Key Guess : 0c Value : 27.975984\n",
      "Key Guess : c7 Value : 27.925218\n",
      "Key Guess : 15 Value : 27.675566\n",
      "Key Guess : d2 Value : 27.476416\n",
      "Key Guess : 14 Value : 27.078562\n",
      "Key Guess : fc Value : 27.037376\n",
      "Key Guess : f6 Value : 27.022538\n",
      "Key Guess : ef Value : 26.949245\n",
      "Key Guess : 84 Value : 26.931541\n",
      "Key Guess : aa Value : 26.672905\n",
      "Key Guess : b0 Value : 26.295902\n",
      "Key Guess : b6 Value : 26.140214\n",
      "Key Guess : 5d Value : 26.101557\n",
      "Key Guess : 37 Value : 25.603148\n",
      "Key Guess : d1 Value : 25.097262\n",
      "Key Guess : 35 Value : 25.082230\n",
      "Key Guess : 43 Value : 25.022916\n",
      "Key Guess : 02 Value : 24.821398\n",
      "Key Guess : 58 Value : 24.666755\n",
      "Key Guess : 8f Value : 24.654508\n",
      "Key Guess : 59 Value : 24.592456\n",
      "Key Guess : e7 Value : 24.501364\n",
      "Key Guess : 4d Value : 24.467130\n",
      "Key Guess : e5 Value : 24.406654\n",
      "Key Guess : 40 Value : 24.329338\n",
      "Key Guess : be Value : 24.002387\n",
      "Key Guess : 31 Value : 23.968490\n",
      "Key Guess : 2e Value : 23.877263\n",
      "Key Guess : ea Value : 23.780317\n",
      "Key Guess : 5a Value : 23.769670\n",
      "Key Guess : 8a Value : 23.755386\n",
      "Key Guess : 24 Value : 23.735691\n",
      "Key Guess : bd Value : 23.514691\n",
      "Key Guess : 1d Value : 23.499382\n",
      "Key Guess : 12 Value : 23.348303\n",
      "Key Guess : 3c Value : 23.341286\n",
      "Key Guess : 49 Value : 23.088866\n",
      "Key Guess : 30 Value : 22.984424\n",
      "Key Guess : 60 Value : 22.916669\n",
      "Key Guess : 52 Value : 22.752953\n",
      "Key Guess : ad Value : 22.710293\n",
      "Key Guess : cf Value : 22.647813\n",
      "Key Guess : 47 Value : 22.617138\n",
      "Key Guess : 9d Value : 22.529740\n",
      "Key Guess : 53 Value : 22.351092\n",
      "Key Guess : a1 Value : 22.346358\n",
      "Key Guess : 50 Value : 22.272669\n",
      "Key Guess : 7b Value : 22.254643\n",
      "Key Guess : 91 Value : 21.959149\n",
      "Key Guess : 95 Value : 21.692721\n",
      "Key Guess : a5 Value : 21.598068\n",
      "Key Guess : 90 Value : 21.409319\n",
      "Key Guess : 87 Value : 21.246332\n",
      "Key Guess : 86 Value : 21.021280\n",
      "Key Guess : 2d Value : 20.868085\n",
      "Key Guess : 5e Value : 20.787363\n",
      "Key Guess : 54 Value : 20.729730\n",
      "Key Guess : e9 Value : 20.447768\n",
      "Key Guess : a0 Value : 20.391942\n",
      "Key Guess : d8 Value : 20.359259\n",
      "Key Guess : 33 Value : 20.259384\n",
      "Key Guess : 51 Value : 20.133134\n",
      "Key Guess : 62 Value : 20.120388\n",
      "Key Guess : 41 Value : 20.050867\n",
      "Key Guess : b8 Value : 19.944693\n",
      "Key Guess : 1f Value : 19.754046\n",
      "Key Guess : ec Value : 19.715805\n",
      "Key Guess : c4 Value : 19.632191\n",
      "Key Guess : 9a Value : 19.543500\n",
      "Key Guess : bb Value : 19.498302\n",
      "Key Guess : 39 Value : 19.494411\n",
      "Key Guess : 3a Value : 19.419891\n",
      "Key Guess : 74 Value : 19.275066\n",
      "Key Guess : 01 Value : 19.154507\n",
      "Key Guess : 19 Value : 19.005704\n",
      "Key Guess : 04 Value : 18.935735\n",
      "Key Guess : dd Value : 18.684085\n",
      "Key Guess : a4 Value : 18.641585\n",
      "Key Guess : 67 Value : 18.317496\n",
      "Key Guess : 1b Value : 18.259174\n",
      "Key Guess : 0d Value : 18.238299\n",
      "Key Guess : b7 Value : 18.229318\n",
      "Key Guess : d4 Value : 18.119752\n",
      "Key Guess : ed Value : 18.056077\n",
      "Key Guess : b9 Value : 17.807664\n",
      "Key Guess : e4 Value : 17.773562\n",
      "Key Guess : 78 Value : 17.766824\n",
      "Key Guess : 23 Value : 17.666088\n",
      "Key Guess : 34 Value : 17.615089\n",
      "Key Guess : fb Value : 17.576882\n",
      "Key Guess : 89 Value : 17.549887\n",
      "Key Guess : 03 Value : 17.444778\n",
      "Key Guess : cc Value : 17.414048\n",
      "Key Guess : bc Value : 17.330109\n",
      "Key Guess : 64 Value : 17.258620\n",
      "Key Guess : 0e Value : 17.248603\n",
      "Key Guess : 8c Value : 17.182527\n",
      "Key Guess : f3 Value : 17.161858\n",
      "Key Guess : a7 Value : 17.145754\n",
      "Key Guess : c1 Value : 16.959105\n",
      "Key Guess : 0b Value : 16.862179\n",
      "Key Guess : b5 Value : 16.827254\n",
      "Key Guess : e2 Value : 16.747382\n",
      "Key Guess : 68 Value : 16.700422\n",
      "Key Guess : 32 Value : 16.638832\n",
      "Key Guess : 21 Value : 16.588069\n",
      "Key Guess : 1e Value : 16.571165\n",
      "Key Guess : db Value : 16.473602\n",
      "Key Guess : d9 Value : 16.470608\n",
      "Key Guess : c9 Value : 16.393749\n",
      "Key Guess : 70 Value : 16.385152\n",
      "Key Guess : 27 Value : 16.323850\n",
      "Key Guess : 09 Value : 16.297018\n",
      "Key Guess : 28 Value : 16.291700\n",
      "Key Guess : 5f Value : 16.286574\n",
      "Key Guess : 6c Value : 16.244365\n",
      "Key Guess : cd Value : 15.888069\n",
      "Key Guess : a2 Value : 15.875423\n",
      "Key Guess : fa Value : 15.871642\n",
      "Key Guess : 13 Value : 15.862555\n",
      "Key Guess : 4b Value : 15.820347\n",
      "Key Guess : 18 Value : 15.813277\n",
      "Key Guess : ab Value : 15.784590\n",
      "Key Guess : 7e Value : 15.771989\n",
      "Key Guess : d6 Value : 15.746089\n",
      "Key Guess : e6 Value : 15.616696\n",
      "Key Guess : 88 Value : 15.596394\n",
      "Key Guess : a8 Value : 15.595190\n",
      "Key Guess : 77 Value : 15.566443\n",
      "Key Guess : 36 Value : 15.553585\n",
      "Key Guess : f2 Value : 15.547750\n",
      "Key Guess : e0 Value : 15.413650\n",
      "Key Guess : d5 Value : 15.397555\n",
      "Key Guess : c5 Value : 15.296128\n",
      "Key Guess : 6e Value : 15.290992\n",
      "Key Guess : f9 Value : 15.211535\n",
      "Key Guess : 4c Value : 15.076001\n",
      "Key Guess : 4e Value : 15.057172\n",
      "Key Guess : dc Value : 14.971485\n",
      "Key Guess : 1c Value : 14.952415\n",
      "Key Guess : 75 Value : 14.941614\n",
      "Key Guess : a9 Value : 14.925151\n",
      "Key Guess : 79 Value : 14.910535\n",
      "Key Guess : 83 Value : 14.885037\n",
      "Key Guess : ce Value : 14.883249\n",
      "Key Guess : 20 Value : 14.851537\n",
      "Key Guess : 66 Value : 14.840185\n",
      "Key Guess : 9e Value : 14.831805\n",
      "Key Guess : 85 Value : 14.687395\n",
      "Key Guess : 5c Value : 14.652103\n",
      "Key Guess : bf Value : 14.616852\n",
      "Key Guess : 7f Value : 14.591546\n",
      "Key Guess : ee Value : 14.558139\n",
      "Key Guess : 6d Value : 14.447013\n",
      "Key Guess : f5 Value : 14.347231\n",
      "Key Guess : de Value : 14.309588\n",
      "Key Guess : 4a Value : 14.259041\n",
      "Key Guess : 9b Value : 14.227194\n",
      "Key Guess : 3d Value : 14.203841\n",
      "Key Guess : d7 Value : 14.203375\n",
      "Key Guess : f0 Value : 14.185601\n",
      "Key Guess : 99 Value : 14.117227\n",
      "Key Guess : 1a Value : 14.055155\n",
      "Key Guess : 97 Value : 14.005635\n",
      "Key Guess : 7d Value : 13.937931\n",
      "Key Guess : 63 Value : 13.866896\n",
      "Key Guess : 9f Value : 13.800997\n",
      "Key Guess : 80 Value : 13.796242\n",
      "Key Guess : 76 Value : 13.778259\n",
      "Key Guess : 7c Value : 13.770881\n",
      "Key Guess : ff Value : 13.691005\n",
      "Key Guess : 98 Value : 13.618813\n",
      "Key Guess : 42 Value : 13.554416\n",
      "Key Guess : 2a Value : 13.405706\n",
      "Key Guess : 57 Value : 13.380765\n",
      "Key Guess : 2f Value : 12.949037\n",
      "Key Guess : 8e Value : 12.885679\n",
      "Key Guess : 5b Value : 12.859128\n",
      "Key Guess : 45 Value : 12.849392\n",
      "Key Guess : 4f Value : 12.844566\n",
      "Key Guess : d0 Value : 12.800681\n",
      "Key Guess : 71 Value : 12.794635\n",
      "Key Guess : c0 Value : 12.769410\n",
      "Key Guess : 44 Value : 12.675998\n",
      "Key Guess : 38 Value : 12.553848\n",
      "Key Guess : f7 Value : 12.519159\n",
      "Key Guess : e1 Value : 12.489765\n",
      "Key Guess : 3f Value : 12.455716\n",
      "Key Guess : 72 Value : 12.403824\n",
      "Key Guess : e3 Value : 12.310679\n",
      "Key Guess : b2 Value : 12.214179\n",
      "Key Guess : 46 Value : 12.058406\n",
      "Key Guess : a3 Value : 12.007291\n",
      "Key Guess : 8d Value : 11.970374\n",
      "Key Guess : 9c Value : 11.813789\n",
      "Key Guess : c8 Value : 11.681000\n",
      "Key Guess : 00 Value : 11.651542\n",
      "Key Guess : 3e Value : 11.622357\n",
      "Key Guess : 55 Value : 11.597658\n",
      "Key Guess : af Value : 11.560053\n",
      "Key Guess : 0a Value : 11.401777\n",
      "Key Guess : c3 Value : 11.273235\n",
      "Key Guess : 81 Value : 11.267052\n",
      "Key Guess : 17 Value : 11.258729\n",
      "Key Guess : 26 Value : 11.082844\n",
      "Key Guess : 92 Value : 10.997879\n",
      "Key Guess : d3 Value : 10.762046\n",
      "Key Guess : 6a Value : 10.375323\n",
      "Key Guess : 3b Value : 10.059227\n",
      "Key Guess : 29 Value : 9.963692\n",
      "Key Guess : c2 Value : 9.758110\n",
      "Key Guess : b1 Value : 9.362877\n",
      "Key Guess : ae Value : 8.831123\n"
     ]
    }
   ],
   "source": [
    "for i in range(256):\n",
    "    print(\"Key Guess : %02x Value : %f\"%(sorted_args[i],max_diffs[sorted_args[i]]))"
   ]
  },
  {
   "cell_type": "code",
   "execution_count": 31,
   "metadata": {},
   "outputs": [],
   "source": [
    "def calculate_diffs(guess, byteindex=0, bitnum=0):\n",
    "    \"\"\"Perform a simple DPA on two traces, uses global `textin_array` and `trace_array` \"\"\"\n",
    "    \n",
    "    one_list = []\n",
    "    zero_list = []\n",
    "\n",
    "    for trace_index in range(numtraces):\n",
    "        hypothetical_leakage = aes_internal(guess, textin_array[trace_index][byteindex])\n",
    "\n",
    "        #Mask off the requested bit\n",
    "        if hypothetical_leakage & (1<<bitnum):\n",
    "            one_list.append(trace_array[trace_index][450:650])\n",
    "        else:\n",
    "            zero_list.append(trace_array[trace_index][450:650])\n",
    "\n",
    "    one_avg = np.asarray(one_list).mean(axis=0)\n",
    "    zero_avg = np.asarray(zero_list).mean(axis=0)\n",
    "    return abs(one_avg - zero_avg)"
   ]
  },
  {
   "cell_type": "code",
   "execution_count": 33,
   "metadata": {},
   "outputs": [
    {
     "data": {
      "text/plain": [
       "[<matplotlib.lines.Line2D at 0x7f0574c4e3d0>]"
      ]
     },
     "execution_count": 33,
     "metadata": {},
     "output_type": "execute_result"
    },
    {
     "data": {
      "image/png": "[encoded data removed]",
      "text/plain": [
       "<Figure size 432x288 with 1 Axes>"
      ]
     },
     "metadata": {
      "needs_background": "light"
     },
     "output_type": "display_data"
    }
   ],
   "source": [
    "plt.plot(calculate_diffs(0x00), 'r')\n",
    "plt.plot(calculate_diffs(0xf1), 'g')\n",
    "plt.plot(calculate_diffs(0xf6), 'b')"
   ]
  },
  {
   "cell_type": "code",
   "execution_count": 34,
   "metadata": {},
   "outputs": [
    {
     "name": "stderr",
     "output_type": "stream",
     "text": [
      "/home/sushranth/miniconda3/lib/python3.7/site-packages/ipykernel_launcher.py:7: TqdmDeprecationWarning: Please use `tqdm.notebook.trange` instead of `tqdm.tnrange`\n",
      "  import sys\n"
     ]
    },
    {
     "data": {
      "application/vnd.jupyter.widget-view+json": {
       "model_id": "f5b62d0d757b47589e0f212333710edc",
       "version_major": 2,
       "version_minor": 0
      },
      "text/plain": [
       "HBox(children=(FloatProgress(value=0.0, description='Attacking Subkey', max=16.0, style=ProgressStyle(descript…"
      ]
     },
     "metadata": {},
     "output_type": "display_data"
    },
    {
     "name": "stdout",
     "output_type": "stream",
     "text": [
      "Subkey  0 - most likely 05 (actual 00)\n",
      " Top 5 guesses: \n",
      "   05 - Diff = 21.786066\n",
      "   48 - Diff = 20.322845\n",
      "   1F - Diff = 19.754046\n",
      "   3A - Diff = 19.419891\n",
      "   08 - Diff = 18.901246\n",
      "\n",
      "\n",
      "Subkey  1 - most likely ED (actual 00)\n",
      " Top 5 guesses: \n",
      "   ED - Diff = 17.016123\n",
      "   DE - Diff = 16.909024\n",
      "   81 - Diff = 16.640206\n",
      "   E9 - Diff = 16.595058\n",
      "   A9 - Diff = 16.589856\n",
      "\n",
      "\n",
      "Subkey  2 - most likely 21 (actual 00)\n",
      " Top 5 guesses: \n",
      "   21 - Diff = 19.558012\n",
      "   F8 - Diff = 19.017368\n",
      "   12 - Diff = 18.854340\n",
      "   64 - Diff = 16.492501\n",
      "   A1 - Diff = 16.488824\n",
      "\n",
      "\n",
      "Subkey  3 - most likely 6F (actual 00)\n",
      " Top 5 guesses: \n",
      "   6F - Diff = 22.247469\n",
      "   54 - Diff = 19.261868\n",
      "   B3 - Diff = 19.212029\n",
      "   67 - Diff = 18.809797\n",
      "   04 - Diff = 17.892894\n",
      "\n",
      "\n",
      "Subkey  4 - most likely F3 (actual 00)\n",
      " Top 5 guesses: \n",
      "   F3 - Diff = 22.156620\n",
      "   0C - Diff = 20.196677\n",
      "   22 - Diff = 19.057536\n",
      "   30 - Diff = 18.718957\n",
      "   5A - Diff = 18.667514\n",
      "\n",
      "\n",
      "Subkey  5 - most likely DE (actual 00)\n",
      " Top 5 guesses: \n",
      "   DE - Diff = 20.339494\n",
      "   61 - Diff = 19.719564\n",
      "   1C - Diff = 18.989590\n",
      "   5A - Diff = 18.733259\n",
      "   CB - Diff = 18.496535\n",
      "\n",
      "\n",
      "Subkey  6 - most likely 69 (actual 00)\n",
      " Top 5 guesses: \n",
      "   69 - Diff = 20.361260\n",
      "   27 - Diff = 20.141612\n",
      "   35 - Diff = 18.048212\n",
      "   44 - Diff = 17.847412\n",
      "   4B - Diff = 17.223287\n",
      "\n",
      "\n",
      "Subkey  7 - most likely 29 (actual 03)\n",
      " Top 5 guesses: \n",
      "   29 - Diff = 26.462253\n",
      "   17 - Diff = 18.002396\n",
      "   C0 - Diff = 17.474460\n",
      "   09 - Diff = 16.542418\n",
      "   0C - Diff = 16.535925\n",
      "\n",
      "\n",
      "Subkey  8 - most likely F1 (actual 24)\n",
      " Top 5 guesses: \n",
      "   F1 - Diff = 23.931748\n",
      "   9F - Diff = 20.831385\n",
      "   0C - Diff = 19.647700\n",
      "   F0 - Diff = 19.152980\n",
      "   12 - Diff = 19.067068\n",
      "\n",
      "\n",
      "Subkey  9 - most likely C7 (actual 3F)\n",
      " Top 5 guesses: \n",
      "   C7 - Diff = 23.763841\n",
      "   58 - Diff = 22.401684\n",
      "   35 - Diff = 20.877014\n",
      "   91 - Diff = 19.729890\n",
      "   AA - Diff = 18.786250\n",
      "\n",
      "\n",
      "Subkey 10 - most likely A1 (actual 6A)\n",
      " Top 5 guesses: \n",
      "   A1 - Diff = 22.460325\n",
      "   3E - Diff = 20.158621\n",
      "   6A - Diff = 19.310606\n",
      "   0B - Diff = 17.842642\n",
      "   7F - Diff = 17.426511\n",
      "\n",
      "\n",
      "Subkey 11 - most likely 3C (actual 88)\n",
      " Top 5 guesses: \n",
      "   3C - Diff = 19.660619\n",
      "   92 - Diff = 18.133403\n",
      "   13 - Diff = 17.561726\n",
      "   E9 - Diff = 17.145957\n",
      "   E3 - Diff = 16.863171\n",
      "\n",
      "\n",
      "Subkey 12 - most likely 75 (actual 85)\n",
      " Top 5 guesses: \n",
      "   75 - Diff = 17.424109\n",
      "   DB - Diff = 17.186000\n",
      "   15 - Diff = 16.285219\n",
      "   F1 - Diff = 16.068798\n",
      "   F6 - Diff = 15.609386\n",
      "\n",
      "\n",
      "Subkey 13 - most likely 91 (actual A3)\n",
      " Top 5 guesses: \n",
      "   91 - Diff = 19.981663\n",
      "   A6 - Diff = 18.441908\n",
      "   6E - Diff = 18.425393\n",
      "   B4 - Diff = 17.929722\n",
      "   2C - Diff = 17.345451\n",
      "\n",
      "\n",
      "Subkey 14 - most likely 7C (actual 08)\n",
      " Top 5 guesses: \n",
      "   7C - Diff = 20.837668\n",
      "   84 - Diff = 18.887331\n",
      "   AC - Diff = 18.525376\n",
      "   7D - Diff = 16.934316\n",
      "   32 - Diff = 16.781212\n",
      "\n",
      "\n",
      "Subkey 15 - most likely CE (actual D3)\n",
      " Top 5 guesses: \n",
      "   CE - Diff = 21.156285\n",
      "   05 - Diff = 18.764634\n",
      "   30 - Diff = 16.579826\n",
      "   6D - Diff = 16.487513\n",
      "   28 - Diff = 16.034736\n",
      "\n",
      "\n",
      "\n"
     ]
    }
   ],
   "source": [
    "from tqdm import tnrange\n",
    "import numpy as np\n",
    "\n",
    "#Store your key_guess here, compare to known_key\n",
    "key_guess = []\n",
    "\n",
    "for subkey in tnrange(0, 16, desc=\"Attacking Subkey\"):\n",
    "    # ###################\n",
    "    # Add your code here\n",
    "    # ###################\n",
    "    #raise NotImplementedError(\"Add Your Code Here\")\n",
    "    \n",
    "    # ###################\n",
    "    # START SOLUTION\n",
    "    # ###################\n",
    "    max_diffs = [0]*256\n",
    "    full_diffs = [0]*256\n",
    "    for guess in range(0, 256):\n",
    "        full_diff_trace = calculate_diffs(guess, subkey)\n",
    "        max_diffs[guess] = np.max(full_diff_trace)\n",
    "        full_diffs[guess] = full_diff_trace\n",
    "        \n",
    "    #Get argument sort, as each index is the actual key guess.\n",
    "    sorted_args = np.argsort(max_diffs)[::-1]\n",
    "    \n",
    "    #Keep most likely\n",
    "    key_guess.append(sorted_args[0])\n",
    "    \n",
    "    #Print results\n",
    "    print(\"Subkey %2d - most likely %02X (actual %02X)\"%(subkey, key_guess[subkey], key[subkey]))\n",
    "    \n",
    "    #Print other top guesses\n",
    "    print(\" Top 5 guesses: \")\n",
    "    for i in range(0, 5):\n",
    "        g = sorted_args[i]\n",
    "        print(\"   %02X - Diff = %f\"%(g, max_diffs[g]))\n",
    "    \n",
    "    print(\"\\n\")"
   ]
  },
  {
   "cell_type": "code",
   "execution_count": 40,
   "metadata": {},
   "outputs": [
    {
     "name": "stderr",
     "output_type": "stream",
     "text": [
      "/home/sushranth/miniconda3/lib/python3.7/site-packages/ipykernel_launcher.py:9: TqdmDeprecationWarning: Please use `tqdm.notebook.trange` instead of `tqdm.tnrange`\n",
      "  if __name__ == '__main__':\n"
     ]
    },
    {
     "data": {
      "application/vnd.jupyter.widget-view+json": {
       "model_id": "f80ece66d41543bea06eed75b867bf7e",
       "version_major": 2,
       "version_minor": 0
      },
      "text/plain": [
       "HBox(children=(FloatProgress(value=0.0, max=256.0), HTML(value='')))"
      ]
     },
     "metadata": {},
     "output_type": "display_data"
    },
    {
     "name": "stdout",
     "output_type": "stream",
     "text": [
      "\n",
      "Key guess:  0xb0\n",
      "Correlation:  0.03677368459977248\n"
     ]
    }
   ],
   "source": [
    "from tqdm import tnrange\n",
    "maxcpa = [0] * 256\n",
    "\n",
    "# we don't need to redo the mean and std dev calculations \n",
    "# for each key guess\n",
    "t_bar = mean(trace_array) \n",
    "o_t = std_dev(trace_array, t_bar)\n",
    "\n",
    "for kguess in tnrange(0, 256):\n",
    "    hws = np.array([[HW[aes_internal(textin[0],kguess)] for textin in textin_array]]).transpose()\n",
    "    \n",
    "    # ###################\n",
    "    # Add your code here\n",
    "    # ###################\n",
    "    #raise NotImplementedError(\"Add your code here, and delete this.\")\n",
    "    \n",
    "    # ###################\n",
    "    # START SOLUTION\n",
    "    # ###################\n",
    "    hws_bar = mean(hws)\n",
    "    o_hws = std_dev(hws, hws_bar)\n",
    "    correlation = cov(trace_array, t_bar, hws, hws_bar)\n",
    "    cpaoutput = correlation/(o_t*o_hws)\n",
    "    maxcpa[kguess] = max(abs(cpaoutput))\n",
    "    \n",
    "\n",
    "guess = np.argmax(maxcpa)\n",
    "guess_corr = max(maxcpa)\n",
    "# ###################\n",
    "# END SOLUTION\n",
    "# ###################\n",
    "print(\"Key guess: \", hex(guess))\n",
    "print(\"Correlation: \", guess_corr)"
   ]
  },
  {
   "cell_type": "code",
   "execution_count": 41,
   "metadata": {},
   "outputs": [
    {
     "name": "stderr",
     "output_type": "stream",
     "text": [
      "/home/sushranth/miniconda3/lib/python3.7/site-packages/ipykernel_launcher.py:7: TqdmDeprecationWarning: Please use `tqdm.notebook.trange` instead of `tqdm.tnrange`\n",
      "  import sys\n"
     ]
    },
    {
     "data": {
      "application/vnd.jupyter.widget-view+json": {
       "model_id": "f0c92dc4c22c4c18bd7663f0d9b04f2d",
       "version_major": 2,
       "version_minor": 0
      },
      "text/plain": [
       "HBox(children=(FloatProgress(value=0.0, max=16.0), HTML(value='')))"
      ]
     },
     "metadata": {},
     "output_type": "display_data"
    },
    {
     "name": "stdout",
     "output_type": "stream",
     "text": [
      "\n",
      "Best Key Guess: b0 a3 45 0c a1 41 81 64 02 8b 24 97 0c fc e9 43 \n",
      " [0.03677368459977248, 0.03278555573823046, 0.03359359197572764, 0.03663029734760345, 0.03268290031875528, 0.03496235904253384, 0.03420824039320424, 0.03592346025220081, 0.036931840026845804, 0.03750071731322957, 0.03360757561082919, 0.031997019769102464, 0.03464022808910048, 0.03203884799361719, 0.037390615029912026, 0.0304375599654914]\n"
     ]
    }
   ],
   "source": [
    "t_bar = np.sum(trace_array, axis=0)/len(trace_array)\n",
    "o_t = np.sqrt(np.sum((trace_array - t_bar)**2, axis=0))\n",
    "\n",
    "cparefs = [0] * 16 #put your key byte guess correlations here\n",
    "bestguess = [0] * 16 #put your key byte guesses here\n",
    "\n",
    "for bnum in tnrange(0, 16):\n",
    "    maxcpa = [0] * 256\n",
    "    for kguess in range(0, 256):\n",
    "    # ###################\n",
    "    # Add your code here\n",
    "    # ###################\n",
    "    #raise NotImplementedError(\"Add your code here, and delete this.\")\n",
    "    \n",
    "    # ###################\n",
    "    # START SOLUTION\n",
    "    # ###################\n",
    "        hws = np.array([[HW[aes_internal(textin[bnum],kguess)] for textin in textin_array]]).transpose()\n",
    "        hws_bar = mean(hws)\n",
    "        o_hws = std_dev(hws, hws_bar)\n",
    "        correlation = cov(trace_array, t_bar, hws, hws_bar)\n",
    "        cpaoutput = correlation/(o_t*o_hws)\n",
    "        maxcpa[kguess] = max(abs(cpaoutput))\n",
    "    bestguess[bnum] = np.argmax(maxcpa)\n",
    "    cparefs[bnum] = max(maxcpa)\n",
    "    # ###################\n",
    "    # END SOLUTION\n",
    "    # ###################\n",
    "\n",
    "print(\"Best Key Guess: \", end=\"\")\n",
    "for b in bestguess: print(\"%02x \" % b, end=\"\")\n",
    "print(\"\\n\", cparefs)"
   ]
  },
  {
   "cell_type": "code",
   "execution_count": 42,
   "metadata": {},
   "outputs": [
    {
     "name": "stdout",
     "output_type": "stream",
     "text": [
      "[  0   0   0   0   0   0   0   3  36  63 106 136 133 163   8 211]\n"
     ]
    }
   ],
   "source": [
    "print(key)"
   ]
  },
  {
   "cell_type": "code",
   "execution_count": null,
   "metadata": {},
   "outputs": [],
   "source": []
  }
 ],
 "metadata": {
  "kernelspec": {
   "display_name": "Python [conda env:root] *",
   "language": "python",
   "name": "conda-root-py"
  },
  "language_info": {
   "codemirror_mode": {
    "name": "ipython",
    "version": 3
   },
   "file_extension": ".py",
   "mimetype": "text/x-python",
   "name": "python",
   "nbconvert_exporter": "python",
   "pygments_lexer": "ipython3",
   "version": "3.7.7"
  }
 },
 "nbformat": 4,
 "nbformat_minor": 4
}
